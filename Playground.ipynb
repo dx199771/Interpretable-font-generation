{
 "cells": [
  {
   "cell_type": "markdown",
   "id": "governmental-orlando",
   "metadata": {},
   "source": [
    "# \"Interpretable Font Generation With Texture Synthesis\""
   ]
  },
  {
   "cell_type": "markdown",
   "id": "instant-slovak",
   "metadata": {},
   "source": [
    "In this notebook, we will give a thorough explantation of the implementation and"
   ]
  },
  {
   "cell_type": "markdown",
   "id": "endless-samuel",
   "metadata": {},
   "source": [
    "# Step 1: Glyph Generation"
   ]
  },
  {
   "cell_type": "markdown",
   "id": "elect-oriental",
   "metadata": {},
   "source": []
  },
  {
   "cell_type": "code",
   "execution_count": null,
   "id": "circular-tiffany",
   "metadata": {},
   "outputs": [],
   "source": [
    "import torch\n",
    "import argparse\n",
    "from nets.info_GAN import Discriminator, Generator\n",
    "from torch.autograd import Variable\n",
    "import numpy as np\n",
    "from torchvision.utils import save_image\n"
   ]
  },
  {
   "cell_type": "markdown",
   "id": "massive-geometry",
   "metadata": {},
   "source": [
    "# Step 2: Texture Synthesis"
   ]
  },
  {
   "cell_type": "code",
   "execution_count": null,
   "id": "outer-tampa",
   "metadata": {},
   "outputs": [],
   "source": []
  },
  {
   "cell_type": "markdown",
   "id": "cooperative-shoot",
   "metadata": {},
   "source": [
    "# Optional:"
   ]
  },
  {
   "cell_type": "code",
   "execution_count": null,
   "id": "organized-rubber",
   "metadata": {},
   "outputs": [],
   "source": []
  }
 ],
 "metadata": {
  "kernelspec": {
   "display_name": "Python 3",
   "language": "python",
   "name": "python3"
  },
  "language_info": {
   "codemirror_mode": {
    "name": "ipython",
    "version": 3
   },
   "file_extension": ".py",
   "mimetype": "text/x-python",
   "name": "python",
   "nbconvert_exporter": "python",
   "pygments_lexer": "ipython3",
   "version": "3.7.0"
  }
 },
 "nbformat": 4,
 "nbformat_minor": 5
}
